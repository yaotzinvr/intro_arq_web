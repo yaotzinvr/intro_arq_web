{
 "cells": [
  {
   "cell_type": "markdown",
   "metadata": {},
   "source": [
    "# Singleton "
   ]
  },
  {
   "cell_type": "code",
   "execution_count": 153,
   "metadata": {},
   "outputs": [],
   "source": [
    "class SoyUnico(object):\n",
    "    __instance = None\n",
    "    nombre = None\n",
    "\n",
    "    def __new__(self,nombre):\n",
    "        if self.__instance is None:\n",
    "            self.__instance = object.__new__(self)\n",
    "            self.nombre = nombre\n",
    "        return self.__instance\n",
    "    def __str__(self):\n",
    "        return self.nombre\n",
    "   \n"
   ]
  },
  {
   "cell_type": "code",
   "execution_count": 163,
   "metadata": {},
   "outputs": [],
   "source": [
    "x = SoyUnico('Yao')\n",
    "y = SoyUnico('Jorge')"
   ]
  },
  {
   "cell_type": "code",
   "execution_count": 164,
   "metadata": {},
   "outputs": [
    {
     "data": {
      "text/plain": [
       "<__main__.SoyUnico at 0x7f1d335015c0>"
      ]
     },
     "execution_count": 164,
     "metadata": {},
     "output_type": "execute_result"
    }
   ],
   "source": [
    "x"
   ]
  },
  {
   "cell_type": "code",
   "execution_count": 165,
   "metadata": {},
   "outputs": [
    {
     "data": {
      "text/plain": [
       "<__main__.SoyUnico at 0x7f1d335015c0>"
      ]
     },
     "execution_count": 165,
     "metadata": {},
     "output_type": "execute_result"
    }
   ],
   "source": [
    "y"
   ]
  },
  {
   "cell_type": "code",
   "execution_count": 166,
   "metadata": {},
   "outputs": [
    {
     "name": "stdout",
     "output_type": "stream",
     "text": [
      "Yao\n",
      "Yao\n"
     ]
    }
   ],
   "source": [
    "print(str(x))\n",
    "print(str(y))"
   ]
  },
  {
   "cell_type": "markdown",
   "metadata": {},
   "source": [
    "# Factory "
   ]
  },
  {
   "cell_type": "code",
   "execution_count": 119,
   "metadata": {},
   "outputs": [],
   "source": [
    "class Persona():\n",
    "    def __init__(self):\n",
    "        self.nombre = None\n",
    "        self.edad = None\n",
    "        self.genero = None\n",
    "    def get_nombre(self):\n",
    "        return self.nombre\n",
    "    def get_edad(self):\n",
    "        return self.edad\n",
    "    def get_genero(self):\n",
    "        return self.genero\n",
    "    def __str__(self):\n",
    "        return \"Informacion de una persona:\\n1. Nombre: {n}\\n2. Edad: {e}\\n3. Genero: {g}\".format(\n",
    "            n=self.get_nombre(), e=self.get_edad(), g=self.get_genero())\n",
    "    \n",
    "class Femenino(Persona): \n",
    "    def __init__(self, nombre, edad, genero):\n",
    "        self.nombre  = nombre\n",
    "        self.edad = edad\n",
    "        self.genero = genero\n",
    "        print(\"Hola Srta. \"+nombre+\" su edad es \"+str(edad))\n",
    "        \n",
    "class Masculino(Persona):\n",
    "    def __init__(self, nombre, edad, genero):\n",
    "        self.nombre = nombre\n",
    "        self.edad = edad\n",
    "        self.genero = genero\n",
    "        print (\"Hola Sr. \"+nombre+\" su edad es \"+str(edad))"
   ]
  },
  {
   "cell_type": "code",
   "execution_count": 120,
   "metadata": {},
   "outputs": [],
   "source": [
    "class Factoria():\n",
    "\n",
    "    def get_persona(self, nombre, genero, edad):\n",
    "        if (genero == 'F'):\n",
    "            return Femenino(nombre, edad, genero)\n",
    "        elif (genero == 'M'):\n",
    "            return Masculino(nombre, edad, genero)"
   ]
  },
  {
   "cell_type": "code",
   "execution_count": 121,
   "metadata": {},
   "outputs": [],
   "source": [
    "factory = Factoria()"
   ]
  },
  {
   "cell_type": "code",
   "execution_count": 123,
   "metadata": {},
   "outputs": [
    {
     "name": "stdout",
     "output_type": "stream",
     "text": [
      "Hola Sr. Yao su edad es 27\n"
     ]
    }
   ],
   "source": [
    "yao = factory.get_persona('Yao','M',27)"
   ]
  },
  {
   "cell_type": "code",
   "execution_count": 124,
   "metadata": {},
   "outputs": [
    {
     "data": {
      "text/plain": [
       "'Informacion de una persona:\\n1. Nombre: Yao\\n2. Edad: 27\\n3. Genero: M'"
      ]
     },
     "execution_count": 124,
     "metadata": {},
     "output_type": "execute_result"
    }
   ],
   "source": [
    "str(yao)"
   ]
  },
  {
   "cell_type": "markdown",
   "metadata": {},
   "source": [
    "# Fachada "
   ]
  },
  {
   "cell_type": "code",
   "execution_count": 82,
   "metadata": {},
   "outputs": [],
   "source": [
    "class _IgnitionSystem(object):\n",
    "    @staticmethod\n",
    "    def produce_spark(): return True\n",
    "\n",
    "class _Engine(object):\n",
    "    def __init__(self): self.revs_per_minute = 0\n",
    "    def turnon(self):   self.revs_per_minute = 2000\n",
    "    def turnoff(self):  self.revs_per_minute = 0\n",
    "\n",
    "class _FuelTank(object):\n",
    "    def __init__(self, level=30): self._level = level\n",
    "    @property\n",
    "    def level(self): return self._level\n",
    "    @level.setter\n",
    "    def level(self, level): self._level = level\n",
    "\n",
    "class _DashBoardLight(object):\n",
    "    def __init__(self, is_on=False): self._is_on = is_on\n",
    "    def __str__(self): return self.__class__.__name__\n",
    "    @property\n",
    "    def is_on(self): return self._is_on\n",
    "    @is_on.setter\n",
    "    def is_on(self, status):self._is_on = status\n",
    "    def status_check(self):\n",
    "        if self._is_on: print(\"{}: ON\".format(str(self)))\n",
    "        else:           print(\"{}: OFF\".format(str(self)))\n",
    "\n",
    "class _HandBrakeLight(_DashBoardLight):\n",
    "    pass\n",
    "\n",
    "class _FogLampLight(_DashBoardLight):\n",
    "    pass\n",
    "\n",
    "class _Dashboard(object):\n",
    "    def __init__(self): self.lights = {\"handbreak\": _HandBrakeLight(), \"fog\": _FogLampLight()}\n",
    "    def show(self):\n",
    "        for light in self.lights.values(): light.status_check()\n"
   ]
  },
  {
   "cell_type": "code",
   "execution_count": 83,
   "metadata": {},
   "outputs": [],
   "source": [
    "class Car(object):\n",
    "    def __init__(self):\n",
    "        self.ignition_system = _IgnitionSystem()\n",
    "        self.engine = _Engine()\n",
    "        self.fuel_tank = _FuelTank()\n",
    "        self.dashboard = _Dashboard()\n",
    "    \n",
    "    @property\n",
    "    def km_per_litre(self):\n",
    "        return 17.0\n",
    "    \n",
    "    def consume_fuel(self, km):\n",
    "        litres = min(self.fuel_tank.level, km / self.km_per_litre)\n",
    "        self.fuel_tank.level -= litres\n",
    "    \n",
    "    def start(self):\n",
    "        print(\"\\nStarting...\")\n",
    "        self.dashboard.show()\n",
    "        if self.ignition_system.produce_spark():\n",
    "            self.engine.turnon()\n",
    "        else:\n",
    "            print(\"Can't start. Faulty ignition system\")\n",
    "    \n",
    "    def has_enough_fuel(self, km, km_per_litre):\n",
    "        litres_needed = km / km_per_litre\n",
    "        if self.fuel_tank.level > litres_needed:\n",
    "            return True\n",
    "        else:\n",
    "            return False\n",
    "        \n",
    "    def drive(self, km = 100):\n",
    "        print(\"\\n\")\n",
    "        if self.engine.revs_per_minute > 0:\n",
    "            while self.has_enough_fuel(km, self.km_per_litre):\n",
    "                self.consume_fuel(km)\n",
    "                print(\"Drove {}km\".format(km))\n",
    "                print(\"{:.2f}l of fuel still left\".format(self.fuel_tank.level))\n",
    "        else:\n",
    "            print(\"Can't drive. The Engine is turned off!\")\n",
    "\n",
    "    def park(self):\n",
    "        print(\"\\nParking...\")\n",
    "        self.dashboard.lights[\"handbreak\"].is_on = True\n",
    "        self.dashboard.show()\n",
    "        self.engine.turnoff()\n",
    "\n",
    "    def switch_fog_lights(self, status):\n",
    "        print(\"\\nSwitching {} fog lights...\".format(status))\n",
    "        boolean = True if status == \"ON\" else False\n",
    "        self.dashboard.lights[\"fog\"].is_on = boolean\n",
    "        self.dashboard.show()\n",
    "\n",
    "    def fill_up_tank(self):\n",
    "        print(\"\\nFuel tank filled up!\")\n",
    "        self.fuel_tank.level = 100\n"
   ]
  },
  {
   "cell_type": "code",
   "execution_count": 84,
   "metadata": {},
   "outputs": [],
   "source": [
    "car = Car()"
   ]
  },
  {
   "cell_type": "code",
   "execution_count": 85,
   "metadata": {},
   "outputs": [
    {
     "name": "stdout",
     "output_type": "stream",
     "text": [
      "\n",
      "Starting...\n",
      "_HandBrakeLight: OFF\n",
      "_FogLampLight: OFF\n",
      "\n",
      "\n",
      "Drove 100km\n",
      "24.12l of fuel still left\n",
      "Drove 100km\n",
      "18.24l of fuel still left\n",
      "Drove 100km\n",
      "12.35l of fuel still left\n",
      "Drove 100km\n",
      "6.47l of fuel still left\n",
      "Drove 100km\n",
      "0.59l of fuel still left\n",
      "\n",
      "Switching ON fog lights...\n",
      "_HandBrakeLight: OFF\n",
      "_FogLampLight: ON\n",
      "\n",
      "Switching OFF fog lights...\n",
      "_HandBrakeLight: OFF\n",
      "_FogLampLight: OFF\n",
      "\n",
      "Parking...\n",
      "_HandBrakeLight: ON\n",
      "_FogLampLight: OFF\n",
      "\n",
      "Fuel tank filled up!\n",
      "\n",
      "\n",
      "Can't drive. The Engine is turned off!\n",
      "\n",
      "Starting...\n",
      "_HandBrakeLight: ON\n",
      "_FogLampLight: OFF\n",
      "\n",
      "\n",
      "Drove 100km\n",
      "94.12l of fuel still left\n",
      "Drove 100km\n",
      "88.24l of fuel still left\n",
      "Drove 100km\n",
      "82.35l of fuel still left\n",
      "Drove 100km\n",
      "76.47l of fuel still left\n",
      "Drove 100km\n",
      "70.59l of fuel still left\n",
      "Drove 100km\n",
      "64.71l of fuel still left\n",
      "Drove 100km\n",
      "58.82l of fuel still left\n",
      "Drove 100km\n",
      "52.94l of fuel still left\n",
      "Drove 100km\n",
      "47.06l of fuel still left\n",
      "Drove 100km\n",
      "41.18l of fuel still left\n",
      "Drove 100km\n",
      "35.29l of fuel still left\n",
      "Drove 100km\n",
      "29.41l of fuel still left\n",
      "Drove 100km\n",
      "23.53l of fuel still left\n",
      "Drove 100km\n",
      "17.65l of fuel still left\n",
      "Drove 100km\n",
      "11.76l of fuel still left\n",
      "Drove 100km\n",
      "5.88l of fuel still left\n",
      "Drove 100km\n",
      "0.00l of fuel still left\n"
     ]
    }
   ],
   "source": [
    "car.start()\n",
    "car.drive()\n",
    "car.switch_fog_lights(\"ON\")\n",
    "car.switch_fog_lights(\"OFF\")\n",
    "car.park()\n",
    "car.fill_up_tank()\n",
    "car.drive()\n",
    "car.start()\n",
    "car.drive()"
   ]
  },
  {
   "cell_type": "markdown",
   "metadata": {},
   "source": [
    "# Cadena de Responsabilidad "
   ]
  },
  {
   "cell_type": "code",
   "execution_count": 111,
   "metadata": {},
   "outputs": [],
   "source": [
    "class ReportFormat(object):\n",
    "    PDF = 0\n",
    "    TEXT = 1\n",
    "    EXE = 2\n",
    "    \n",
    "class Report(object):\n",
    "    def __init__(self, format_):\n",
    "        self.title = 'Monthly report'\n",
    "        self.text = ['Things are going', 'really, really well.']\n",
    "        self.format_ = format_"
   ]
  },
  {
   "cell_type": "code",
   "execution_count": 115,
   "metadata": {},
   "outputs": [],
   "source": [
    "class Handler(object):\n",
    "    def __init__(self):        self.nextHandler = None\n",
    "    def handle(self, request): self.nextHandler.handle(request)\n",
    "\n",
    "class PDFHandler(Handler):\n",
    "    def handle(self, request):\n",
    "        if request.format_ == ReportFormat.PDF: self.output_report(request.title, request.text)\n",
    "        else:                                   super(PDFHandler, self).handle(request)\n",
    "    def output_report(self, title, text):\n",
    "        print ('<html>')\n",
    "        print (' <head>')\n",
    "        print (' <title>%s</title>' % title)\n",
    "        print (' </head>')\n",
    "        print (' <body>')\n",
    "        for line in text: print (' <p>%s' % line)\n",
    "        print (' </body>')\n",
    "        print ('</html>')\n",
    "\n",
    "class TextHandler(Handler):\n",
    "    def handle(self, request):\n",
    "        if request.format_ == ReportFormat.TEXT:\n",
    "            self.output_report(request.title, request.text)\n",
    "        else:\n",
    "            super(TextHandler, self).handle(request)\n",
    "    def output_report(self, title, text):\n",
    "        print (5*'*' + title + 5*'*')\n",
    "        for line in text:\n",
    "            print (line)\n",
    "\n",
    "class ErrorHandler(Handler):\n",
    "    def handle(self, request):\n",
    "        print (\"FORMATO NO SOPORTADO\")\n"
   ]
  },
  {
   "cell_type": "code",
   "execution_count": 116,
   "metadata": {},
   "outputs": [],
   "source": [
    "report = Report(ReportFormat.EXE)"
   ]
  },
  {
   "cell_type": "code",
   "execution_count": 117,
   "metadata": {},
   "outputs": [],
   "source": [
    "pdf_handler = PDFHandler()\n",
    "text_handler = TextHandler()\n",
    "pdf_handler.nextHandler = text_handler\n",
    "text_handler.nextHandler = ErrorHandler()"
   ]
  },
  {
   "cell_type": "code",
   "execution_count": 118,
   "metadata": {},
   "outputs": [
    {
     "name": "stdout",
     "output_type": "stream",
     "text": [
      "FORMATO NO SOPORTADO\n"
     ]
    }
   ],
   "source": [
    "pdf_handler.handle(report)"
   ]
  },
  {
   "cell_type": "code",
   "execution_count": null,
   "metadata": {},
   "outputs": [],
   "source": []
  },
  {
   "cell_type": "code",
   "execution_count": null,
   "metadata": {},
   "outputs": [],
   "source": []
  },
  {
   "cell_type": "code",
   "execution_count": null,
   "metadata": {},
   "outputs": [],
   "source": []
  },
  {
   "cell_type": "code",
   "execution_count": null,
   "metadata": {},
   "outputs": [],
   "source": []
  },
  {
   "cell_type": "code",
   "execution_count": null,
   "metadata": {},
   "outputs": [],
   "source": []
  },
  {
   "cell_type": "code",
   "execution_count": null,
   "metadata": {},
   "outputs": [],
   "source": []
  }
 ],
 "metadata": {
  "kernelspec": {
   "display_name": "Python 3",
   "language": "python",
   "name": "python3"
  },
  "language_info": {
   "codemirror_mode": {
    "name": "ipython",
    "version": 3
   },
   "file_extension": ".py",
   "mimetype": "text/x-python",
   "name": "python",
   "nbconvert_exporter": "python",
   "pygments_lexer": "ipython3",
   "version": "3.6.9"
  }
 },
 "nbformat": 4,
 "nbformat_minor": 4
}
